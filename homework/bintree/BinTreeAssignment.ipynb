{
  "nbformat": 4,
  "nbformat_minor": 0,
  "metadata": {
    "colab": {
      "name": "BinTreeAssignment.ipynb",
      "version": "0.3.2",
      "provenance": []
    },
    "kernelspec": {
      "display_name": "Python 3",
      "language": "python",
      "name": "python3"
    }
  },
  "cells": [
    {
      "metadata": {
        "id": "ccTrVX5yZv2x",
        "colab_type": "text"
      },
      "cell_type": "markdown",
      "source": [
        "## Binary Tree Class##\n",
        "\n",
        "**Create a BinTree class** that uses the Node class below to create an ordered binary tree. \n",
        "\n",
        "The nodes (below) have a value instance variable that is comparable with the normal Python operators: \"<\", \"<=\" and \"==\", \">=\" and \">\".\n",
        "\n",
        "The nodes also have pointers to their child nodes.\n"
      ]
    },
    {
      "metadata": {
        "id": "w-LcriQGZv22",
        "colab_type": "code",
        "colab": {}
      },
      "cell_type": "code",
      "source": [
        "class Node:\n",
        "    def __init__(self, data):\n",
        "        self.value = data\n",
        "        self.smaller = None\n",
        "        self.larger = None\n",
        "        \n",
        "    def __str__(self):\n",
        "        return str(self.value)"
      ],
      "execution_count": 0,
      "outputs": []
    },
    {
      "metadata": {
        "id": "xEq1bBtrZv3F",
        "colab_type": "text"
      },
      "cell_type": "markdown",
      "source": [
        "**Complete and test the methods below.**\n",
        "\n",
        "**Note**: the _clear()_ method is tricky to code.  What you want to accomplish is to set every node's pointers to other nodes to None. If you have just 2 pointers to the left and right (larger and smaller) children of that node, then walk the tree carefully, and set those pointers in every node to None. This must be done from the bottom up. Once all of the pointers to a block of memory (in this case, a node) are removed, that block of memory becomes inaccessible, and should be collected by the garbage-collector later."
      ]
    },
    {
      "metadata": {
        "id": "t-I_ibBoZv3K",
        "colab_type": "code",
        "colab": {}
      },
      "cell_type": "code",
      "source": [
        "class BinTree:\n",
        "    def __init__(self, A = None): # A is an optional argument containing a list of values to be inserted into the binary tree just after cosntruction\n",
        "        self.root = None\n",
        "        if not A == None:\n",
        "            for each in A:\n",
        "                self.insert(each)\n",
        "\n",
        "        \n",
        "    def insert(self, V): # inserts a new value \n",
        "        if self.root == None:\n",
        "            self.root = Node(V)\n",
        "        else:\n",
        "            if not self.has(V):\n",
        "                self.insert_help(self.root, V)\n",
        "                \n",
        "        \n",
        "    def insert_help(self, current, V):\n",
        "        if V < current.value:\n",
        "            if current.smaller == None:\n",
        "                current.smaller = Node(V)\n",
        "            else:\n",
        "                self.insert_help(current.smaller, V)\n",
        "        else:\n",
        "            if current.larger == None:\n",
        "                current.larger = Node(V)\n",
        "            else:\n",
        "                self.insert_help(current.larger, V)\n",
        "        \n",
        "        \n",
        "    def has(self, V): # returns True if V is in the list, else False\n",
        "        return self.has_help(self.root, V)\n",
        "        \n",
        "    def has_help(self, current, V):\n",
        "        if V == current.value:\n",
        "            return True\n",
        "        else:\n",
        "            if V < current.value:\n",
        "                if current.smaller == None:\n",
        "                    return False\n",
        "                else:\n",
        "                    return self.has_help(current.smaller, V)\n",
        "            else:\n",
        "                if current.larger == None:\n",
        "                    return False\n",
        "                else:\n",
        "                    return self.has_help(current.larger, V)\n",
        "        \n",
        "        \n",
        "    def get_ordered_list(self): # returns a list of all values in ordered sequence\n",
        "        if self.root == None:\n",
        "            return []\n",
        "        return self.get_ordered_list_help(self.root)\n",
        "        \n",
        "    def get_ordered_list_help(self, current):\n",
        "        ordered = []\n",
        "        if not current.smaller == None:\n",
        "            ordered.extend(self.get_ordered_list_help(current.smaller))\n",
        "        ordered.append(current.value)\n",
        "        if not current.larger == None:\n",
        "          ordered.extend(self.get_ordered_list_help(current.larger)) \n",
        "        return ordered\n",
        "        \n",
        "    def clear(self): # clears the list of all nodes\n",
        "        self.clear_help(self.root)\n",
        "        self.root = None\n",
        "        \n",
        "    def clear_help(self, current):\n",
        "        if not current.smaller == None:\n",
        "            self.clear_help(current.smaller)            \n",
        "        if not current.larger == None:\n",
        "            self.clear_help(current.larger)\n",
        "        current.smaller = None\n",
        "        current.larger = None"
      ],
      "execution_count": 0,
      "outputs": []
    },
    {
      "metadata": {
        "id": "c41HRVdebBcR",
        "colab_type": "code",
        "outputId": "36bf2eb3-8e76-463b-fae1-d0ad97a45437",
        "colab": {
          "base_uri": "https://localhost:8080/",
          "height": 134
        }
      },
      "cell_type": "code",
      "source": [
        "# Testing\n",
        "a = BinTree()\n",
        "a.insert(10)\n",
        "print(a.root)\n",
        "\n",
        "a.insert(4)\n",
        "a.insert(11)\n",
        "\n",
        "print(a.has(110))\n",
        "print(a.has(11))\n",
        "\n",
        "print(a.get_ordered_list())\n",
        "\n",
        "a.clear()\n",
        "\n",
        "print(a.get_ordered_list())\n",
        "\n",
        "a = BinTree([3,6,2,7,8])\n",
        "\n",
        "print(a.get_ordered_list())\n",
        "\n",
        "a.insert(7)\n",
        "a.insert(22)\n",
        "\n",
        "print(a.get_ordered_list())"
      ],
      "execution_count": 3,
      "outputs": [
        {
          "output_type": "stream",
          "text": [
            "10\n",
            "False\n",
            "True\n",
            "[4, 10, 11]\n",
            "[]\n",
            "[2, 3, 6, 7, 8]\n",
            "[2, 3, 6, 7, 8, 22]\n"
          ],
          "name": "stdout"
        }
      ]
    }
  ]
}